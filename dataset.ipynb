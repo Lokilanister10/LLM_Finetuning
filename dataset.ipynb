{
 "cells": [
  {
   "cell_type": "code",
   "execution_count": 1,
   "id": "971d42b6-a44e-4213-b9f4-836ad48dfcb1",
   "metadata": {},
   "outputs": [],
   "source": [
    "!pip install -q -U trl transformers accelerate git+https://github.com/huggingface/peft.git\n",
    "!pip install -q datasets bitsandbytes einops wandb"
   ]
  },
  {
   "cell_type": "code",
   "execution_count": 2,
   "id": "014ca2ac-1181-4a9a-a2bb-195dd44784e0",
   "metadata": {},
   "outputs": [
    {
     "data": {
      "application/vnd.jupyter.widget-view+json": {
       "model_id": "943ddbb86b584b59b371a40807e7d58f",
       "version_major": 2,
       "version_minor": 0
      },
      "text/plain": [
       "Downloading data:   0%|          | 0.00/1.01G [00:00<?, ?B/s]"
      ]
     },
     "metadata": {},
     "output_type": "display_data"
    },
    {
     "data": {
      "application/vnd.jupyter.widget-view+json": {
       "model_id": "776e12ce7f604963ad784606b4cc2a69",
       "version_major": 2,
       "version_minor": 0
      },
      "text/plain": [
       "Generating train split:   0%|          | 0/994896 [00:00<?, ? examples/s]"
      ]
     },
     "metadata": {},
     "output_type": "display_data"
    }
   ],
   "source": [
    "from datasets import load_dataset\n",
    "\n",
    "dataset = load_dataset('Open-Orca/1million-gpt-4')"
   ]
  },
  {
   "cell_type": "code",
   "execution_count": 3,
   "id": "f62c1ba9-696a-4bfe-9ebf-fb6b5afe3095",
   "metadata": {},
   "outputs": [
    {
     "data": {
      "application/vnd.jupyter.widget-view+json": {
       "model_id": "1cee9c0130f54c87a71e7ced9c823ad0",
       "version_major": 2,
       "version_minor": 0
      },
      "text/plain": [
       "Filter:   0%|          | 0/994896 [00:00<?, ? examples/s]"
      ]
     },
     "metadata": {},
     "output_type": "display_data"
    },
    {
     "name": "stdout",
     "output_type": "stream",
     "text": [
      "Number of examples after filtering: 399348\n"
     ]
    }
   ],
   "source": [
    "# Function to filter out short responses\n",
    "def filter_short_responses(example):\n",
    "    return len(example['response'].split()) >= 100\n",
    "\n",
    "# Apply the filter\n",
    "filtered_dataset = dataset['train'].filter(filter_short_responses)\n",
    "\n",
    "print(f\"Number of examples after filtering: {len(filtered_dataset)}\")"
   ]
  },
  {
   "cell_type": "code",
   "execution_count": 20,
   "id": "5b62487e-2da7-4276-bf61-d452075dbe44",
   "metadata": {},
   "outputs": [
    {
     "name": "stdout",
     "output_type": "stream",
     "text": [
      "Number of unique examples in the first batch after deduplication: 1000\n",
      "Source: You are an AI assistant. User will you give you a task. Your goal is to complete the task as faithfully as you can. While performing the task think step-by-step and justify your steps. Multi-choice question: What is the sentiment of the following tweet?\n",
      "Tweet: @nikkigreen I told you \n",
      "Choose your answer from:\n",
      " + negative;\n",
      " + positive;\n",
      "Response: To determine the sentiment of the tweet, we need to analyze it thoroughly.\n",
      "\n",
      "Tweet: @nikkigreen I told you\n",
      "\n",
      "Step 1: Identify the words or phrases that carry emotional weight.\n",
      "In this tweet, there is only one phrase worth examining: \"I told you.\"\n",
      "\n",
      "Step 2: Determine the sentiment of the identified words or phrases.\n",
      "\"I told you\" can carry a variety of sentiments, depending on the context. It could be positive, negative, or neutral.\n",
      "\n",
      "Step 3: Consider the overall context of the tweet.\n",
      "Unfortunately, without more context, it is impossible to determine the exact sentiment of the tweet.\n",
      "\n",
      "As a result, we cannot confidently choose an answer from the provided options, positive or negative, without more contextual information.\n",
      "\n",
      "Source: You are an AI assistant that helps people find information. User will you give you a question. Your task is to answer as faithfully as you can. While answering think step-bystep and justify your answer. John was a terrible writer.  To practice, his teacher suggest that he consider people he knows and do what?\n",
      "Options:\n",
      "- write novels\n",
      "- advertising firm\n",
      "- write letter\n",
      "- write notes\n",
      "- write poems\n",
      "Let's think now! Step-by-step reasoning:\n",
      "Response: Step 1: Analyze the situation - John is a terrible writer and needs practice to improve his skills. His teacher gives him advice on how to practice.\n",
      "\n",
      "Step 2: Consider the options given:\n",
      "- Write novels: This might be a bit overwhelming for someone who is just starting to improve their writing skills, as novels are long and require a lot of commitment.\n",
      "- Advertising firm: This option doesn't seem to directly connect to practicing writing, as it refers to a type of business rather than a writing activity.\n",
      "- Write letters: Writing letters could be a good way to practice writing, especially since John can think about people he knows while doing so. This makes the writing more personal and engaging.\n",
      "- Write notes: Writing notes can help improve writing skills to some extent, but might not allow for the kind of continuous practice that John needs.\n",
      "- Write poems: This is another creative option to practice writing, but it might not be the best choice if John struggles with the basics of writing and is not yet comfortable with more advanced forms such as poetry.\n",
      "\n",
      "Step 3: Choose the most suitable option based on the analysis:\n",
      "Given the options, writing letters seems to be the best advice for John to follow when considering people he knows. This would allow him to practice writing in a personal, engaging way while focusing on communicating with others, which could help him improve his skills.\n",
      "\n",
      "Source: You are an AI assistant. User will you give you a task. Your goal is to complete the task as faithfully as you can. While performing the task think step-by-step and justify your steps. This is some data: Amatriciana sauce, region, Lazio; Amatriciana sauce, country, Italy; Amatriciana sauce, ingredient, Tomato; Amatriciana sauce, course, Italian meal structure; Amatriciana sauce, mainIngredient, \"Tomatoes, guanciale, cheese, olive oil\".\n",
      "\n",
      "Generate a detailed description of this data\n",
      "Response: Step 1: Understand the data structure\n",
      "First, I will analyze the provided data and understand that it is a series of key-value pairs associated with Amatriciana sauce, a type of food.\n",
      "\n",
      "Step 2: Organize the data into categories\n",
      "To create a detailed description, I will organize the data into categories such as region, country, ingredients, course, and main ingredients. This will allow me to present the information in a more structured and concise manner.\n",
      "\n",
      "Step 3: Describe the region and country\n",
      "I will describe where Amatriciana sauce originates from, highlighting its tie to the Lazio region in Italy. This will provide geographical context for the dish.\n",
      "\n",
      "Step 4: Discuss ingredients and main ingredients\n",
      "Next, I will give a general overview of some of the ingredients found in Amatriciana sauce, focusing on key components like tomatoes, guanciale (cured pork cheek), cheese, and olive oil. These main ingredients will help paint a more vivid picture of the sauce's flavor profile and texture.\n",
      "\n",
      "Step 5: Explain the course within the Italian meal structure\n",
      "Lastly, I will integrate the information regarding the sauce's role within the Italian meal structure. Given that it doesn't specify a particular course, I will explain its versatility and potential use in multiple courses.\n",
      "\n",
      "Final description:\n",
      "Amatriciana sauce is a flavorful and delectable Italian dish that originates from the Lazio region in Italy. This region's unique culinary style significantly influences the overall taste of Amatriciana sauce. As the data suggests, its key ingredients include tomatoes, guanciale (cured pork cheek), cheese, and olive oil, which all together, create a rich and savory sauce. It is a versatile dish within the Italian meal structure and can be featured in various courses, adding depth and complexity to any traditional Italian meal.\n",
      "\n",
      "Source: You are an AI assistant. You will be given a task. You must generate a detailed and long answer. Review: This is a plain old spooky ghost story. I showed it to some friends of mine in my movie club, and they were kept spellbound until the ending! No blood or gore- just good old fashioned suspense. It starts out right from the beginning, and builds and builds. The ending is a real twist that caught me unawares. \n",
      "\n",
      "Well directed and well acted. It is also a \"period piece\"- set in the 1920s- which added to the atmosphere. \n",
      "\n",
      "I was so impressed I got the book by Susan Hill from Amazon. The movie follows the book rather closely. \n",
      "\n",
      "It's a shame it's not readily available on DVD. My copy is VHS. This along with \"Haunted\" are probably two of the best Ghost Stories I've ever scene. Which just goes to show that a little creativity outdoes \"in your face\" gore any day!\n",
      "Now, what is this review like?\n",
      "pick from the following.\n",
      " A). negative;\n",
      " B). positive;\n",
      "\n",
      "Response: This review can be characterized as B). positive. The reviewer provides several compliments and praises the movie for various aspects, such as the suspense, the direction, the acting, and the period setting. They even mention how impressed they were with the story that they ordered the book by Susan Hill. The highlighted strengths of the film, such as creativity and the lack of blood and gore, contribute to the overall positive sentiment of the review. The only downside mentioned by the reviewer is the unavailability of the movie on DVD, but this does not detract from their overall positive experience.\n",
      "\n",
      "Source: You are an AI assistant that helps people find information. User will you give you a question. Your task is to answer as faithfully as you can. While answering think step-bystep and justify your answer. Question. Context: Heliocentrism is the astronomical model in which the Earth and planets revolve around the Sun at the center of the Solar System. Historically, Heliocentrism was opposed to geocentrism, which placed the Earth at the center. The notion that the Earth revolves around the Sun had been proposed as early as the 3rd century BCE by Aristarchus of Samos, but at least in the medieval world, Aristarchus's Heliocentrism attracted little attention -- possibly because of the loss of scientific works of the Hellenistic Era.\n",
      "\n",
      "Question: who said sun is the center of the solar system?\n",
      "Answer. Aristarchus of Samos\n",
      "What step-by-step reasoning justifies that answer?\n",
      "Response: Step 1: Identify the context and timeframe of the question.\n",
      "The context of the question revolves around the concept of heliocentrism, which is the proposal that the Sun is the center of the solar system. The timeframe mentioned is as early as the 3rd century BCE, which is when the concept was initially proposed.\n",
      "\n",
      "Step 2: Understand the opposing views in the context.\n",
      "Heliocentrism is opposed to geocentrism, which placed Earth at the center of the solar system. This historical context is important to understand the significance of heliocentrism and the person who proposed it.\n",
      "\n",
      "Step 3: Identify key figures related to the heliocentric model.\n",
      "The question asks for the individual who initially proposed the Sun as the center of the solar system. Aristarchus of Samos is mentioned as the person who proposed this model as early as the 3rd century BCE.\n",
      "\n",
      "Step 4: Verify the credibility of the claim.\n",
      "The text mentions that Aristarchus's heliocentrism attracted little attention at the time possibly due to the loss of scientific works of the Hellenistic Era, implying that his proposal was indeed an early instance of heliocentrism.\n",
      "\n",
      "Step 5: Combine the findings to form the answer.\n",
      "Based on the historical context, the opposing views, and the identification of Aristarchus of Samos as the individual who proposed the Sun as the center of the solar system, the answer to the question \"who said the Sun is the center of the solar system?\" is Aristarchus of Samos.\n",
      "\n"
     ]
    }
   ],
   "source": [
    "from sentence_transformers import SentenceTransformer, util\n",
    "import numpy as np\n",
    "import torch\n",
    "\n",
    "# Initialize the sentence transformer model\n",
    "embedding_model = SentenceTransformer('paraphrase-MiniLM-L6-v2')\n",
    "\n",
    "# Set the threshold for cosine similarity\n",
    "threshold = 0.95\n",
    "\n",
    "# Initialize lists for unique responses and embeddings\n",
    "unique_responses = []\n",
    "unique_embeddings = []\n",
    "\n",
    "def deduplicate_batch(batch, threshold=0.95):\n",
    "    texts = [example['response'] for example in batch]\n",
    "    embeddings = embedding_model.encode(texts, convert_to_tensor=True)\n",
    "    \n",
    "    local_unique_responses = []\n",
    "    local_unique_embeddings = []\n",
    "\n",
    "    if len(unique_embeddings) > 0:\n",
    "        unique_embeddings_tensor = torch.stack(unique_embeddings)\n",
    "        \n",
    "        for idx, embedding in enumerate(embeddings):\n",
    "            similarities = util.pytorch_cos_sim(embedding, unique_embeddings_tensor)\n",
    "            if torch.all(similarities < threshold):\n",
    "                local_unique_embeddings.append(embedding)\n",
    "                local_unique_responses.append(batch[idx])\n",
    "    else:\n",
    "        local_unique_embeddings.extend(embeddings)\n",
    "        local_unique_responses.extend(batch)\n",
    "    \n",
    "    return local_unique_responses, local_unique_embeddings\n",
    "\n",
    "# Process a single batch\n",
    "first_batch = next(process_in_batches(filtered_dataset, batch_size=1000))\n",
    "\n",
    "# Deduplicate the first batch\n",
    "local_unique_responses, local_unique_embeddings = deduplicate_batch(first_batch, threshold)\n",
    "\n",
    "# Update the global lists of unique responses and embeddings\n",
    "unique_responses.extend(local_unique_responses)\n",
    "unique_embeddings.extend(local_unique_embeddings)\n",
    "\n",
    "# Print the number of unique examples after deduplication\n",
    "print(f\"Number of unique examples in the first batch after deduplication: {len(unique_responses)}\")\n",
    "\n",
    "# Optionally, print some unique examples to verify\n",
    "for example in unique_responses[:5]:\n",
    "    print(f\"Source: {example['system_prompt']} {example['question']}\")\n",
    "    print(f\"Response: {example['response']}\\n\")\n"
   ]
  }
 ],
 "metadata": {
  "kernelspec": {
   "display_name": "Python 3 (ipykernel)",
   "language": "python",
   "name": "python3"
  },
  "language_info": {
   "codemirror_mode": {
    "name": "ipython",
    "version": 3
   },
   "file_extension": ".py",
   "mimetype": "text/x-python",
   "name": "python",
   "nbconvert_exporter": "python",
   "pygments_lexer": "ipython3",
   "version": "3.10.12"
  }
 },
 "nbformat": 4,
 "nbformat_minor": 5
}
